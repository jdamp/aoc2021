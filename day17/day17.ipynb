{
 "cells": [
  {
   "cell_type": "markdown",
   "metadata": {},
   "source": [
    "## Part 1\n",
    "Time evolution of position and velocity:\n",
    "$$\n",
    "\\vec{x}_t = \\vec{x}_{t-1} + \\vec{v}_{t-1}\\cdot\\Delta t \\\\ \n",
    "\\vec{v}_t = \\vec{v}_{t-1} + \\vec{g}\\cdot\\Delta t + \\vec{d}{} (\\vec{v}_{t-1})\n",
    "$$\n",
    "\n",
    "where $\\vec{g}=\\begin{pmatrix} 0 & 1 \\end{pmatrix}$ and $\\vec{d(\\vec{v}_{t-1})}=\\begin{pmatrix} \\mathrm{sgn}(v_{x,t-1}) & 0 \\end{pmatrix}$ and a time step of $\\Delta t=1$.\n",
    "\n",
    "Iterative insertion yields the solutions:\n",
    "$$\n",
    "\\vec{x}_t = \\sum_{\\tau=0}^{t-1} \\vec{v}_\\tau \\\\ \n",
    "\\vec{v}_t = \\vec{v}_0 + t\\cdot\\vec{g} + \\sum_{\\tau=0}^{t-1}\\vec{d}(\\vec{v}_\\tau)\n",
    "$$\n",
    "\n",
    "For the $y$-component of $\\vec{x}$, the solution can be directly expressed as:\n",
    "$$\n",
    "y_{t} = \\sum_{\\tau=0}^{t-1}(v_{y,0} - \\tau) = t\\cdot v_{y,0} - \\sum_{\\tau=0}^{t-1}\\tau = t\\cdot v_{y,0} - \\frac{t(t-1)}{2}\n",
    "$$\n",
    "which is a discrete parabola with two maxima for $t=v_{y_0}$ and $t=v_{y_0}+1$, the maximum height is therefore given as $y_\\mathrm{max}=\\frac{1}{2}v_{y_0}(v_{y_0}+1)$.\n",
    "\n",
    "After a time $t_0 = 2v_{y,0}+1$ the original height $y=0$ is reached again, and the motion continues downwards with $v_{y,t_0}=v_{y_0}-(2v_{y_0} +1)=-v_{y_0}-1$.\n",
    "The highest velocity allowed at this point is actually just given as $y_\\mathrm{min}$, assuming the target area fulfills $y_\\mathrm{min} < 0$, as otherwise we cannot hit the target area:\n",
    "\n",
    "$v_{y,t_0}=y_\\mathrm{min}=-v_{y_0}-1=>v_{y_0}=-y_\\mathrm{min}-1$.\n",
    "\n",
    "The correspondig height is thous given as $y_\\mathrm{max}=\\frac{1}{2}(-y_\\mathrm{min}-1)(-y_\\mathrm{min}-1+1) = \\frac{1}{2}y_\\mathrm{min}(y_\\mathrm{min}+1)$."
   ]
  },
  {
   "cell_type": "code",
   "execution_count": 1,
   "metadata": {},
   "outputs": [
    {
     "name": "stdout",
     "output_type": "stream",
     "text": [
      "Part 1: 3160.0\n"
     ]
    }
   ],
   "source": [
    "# target area: x=20..30, y=-10..-5\n",
    "# target area: x=282..314, y=-80..-45\n",
    "ymin = -80\n",
    "ymax = -45\n",
    "print(\"Part 1:\", 0.5*ymin*(ymin+1))"
   ]
  },
  {
   "cell_type": "markdown",
   "metadata": {},
   "source": [
    "## Part 2"
   ]
  },
  {
   "cell_type": "code",
   "execution_count": 2,
   "metadata": {},
   "outputs": [],
   "source": [
    "import numpy as np\n",
    "\n",
    "xmin=282\n",
    "xmax=314\n",
    "ymin=-80\n",
    "ymax=-45\n",
    "\n",
    "def d(v):\n",
    "    return np.array([-np.sign(v[0]), 0])\n",
    "\n",
    "g = np.array([0,-1])\n",
    "\n",
    "class Vt:\n",
    "    \"\"\"\n",
    "    Avoid recalculating timesteps that have already been solved by storing the state of v and t\n",
    "    \"\"\"\n",
    "    def __init__(self, v0):\n",
    "        self.v0 = v0\n",
    "        self.v = [v0]\n",
    "        self.t = 0\n",
    "    \n",
    "    def __call__(self, t):\n",
    "        if t < self.t:\n",
    "            return self.v[:t+1]\n",
    "        for tau in range(self.t, t):\n",
    "            self.v.append(self.v[-1]+g+d(self.v[-1]))        \n",
    "        self.t = t\n",
    "        return self.v\n",
    "\n",
    "def xt(t, vt):\n",
    "    return np.sum(vt(t), axis=0)\n",
    "\n",
    "def hit(x, xmin, xmax, ymin, ymax):\n",
    "    return (xmin <= x[0] <= xmax) and (ymin <= x[1] <= ymax)\n",
    "\n",
    "def fail(x, xmax, ymin):\n",
    "    return  (x[0] > xmax) or (x[1] < ymin)\n"
   ]
  },
  {
   "cell_type": "markdown",
   "metadata": {},
   "source": [
    "Some bounds on the velocity: The highest reached x position will be\n",
    "\n",
    "$$x = \\sum_{\\tau=0}^{v_{x,0}-1} (v_{x,0}-\\tau)= v_{x,0}^2 - \\frac{v_{x,0}(v_{x,0}-1)}{2}=\\frac{v_{x,0}(v_{x,0}+1)}{2} = \\binom{v_{x,0}}{2} $$\n",
    "which needs to be at least $x_\\mathrm{min}$. Solving the resulting quadratic equation for $v_{x,0}$ yields\n",
    "$$v_{x,0} \\geq \\frac{1}{2}(\\sqrt{8x_\\mathrm{min}+1}-1)$$\n",
    "At the same time, $v_{x,0}$ cannot be more than $x_\\mathrm{max}$, as we would overshoot the target area otherwise.\n",
    "\n",
    "For $v_{y,0}$, a similar lower boundary exists as $y_\\mathrm{min}$, and the maximum velocity from part 1: $v_{y,0,\\mathrm{max}}=-y_\\mathrm{min}-1$"
   ]
  },
  {
   "cell_type": "code",
   "execution_count": 3,
   "metadata": {},
   "outputs": [
    {
     "name": "stdout",
     "output_type": "stream",
     "text": [
      "Part 2: 1928\n"
     ]
    }
   ],
   "source": [
    "v0xmin = int(np.ceil(0.5*(np.sqrt(8*xmin+1)-1)))\n",
    "v0xmax = xmax\n",
    "v0ymin = ymin\n",
    "v0ymax = -ymin-1\n",
    "grid = np.meshgrid(list(range(v0xmin, v0xmax+1)), list(range(v0ymin, v0ymax+1)))\n",
    "velocities = np.array(list(zip(*(g.flat for g in grid))))\n",
    "good_v = []\n",
    "vt = Vt((5, 3160))\n",
    "for v0 in velocities:\n",
    "    vt = Vt(v0)\n",
    "    t = 0\n",
    "    while True:\n",
    "        x = xt(t, vt)\n",
    "        if hit(x, xmin, xmax, ymin, ymax):\n",
    "            \n",
    "            good_v.append(v0)\n",
    "            break\n",
    "        if fail(x, xmax, ymin):\n",
    "            break\n",
    "        t += 1\n",
    "\n",
    "print(\"Part 2:\", len(good_v))"
   ]
  }
 ],
 "metadata": {
  "interpreter": {
   "hash": "7e47de0b7bc7605ce1c6457899261a57ddb7784e27b7254b8e596666a703f478"
  },
  "kernelspec": {
   "display_name": "Python 3.10.0 64-bit ('aoc': conda)",
   "language": "python",
   "name": "python3"
  },
  "language_info": {
   "codemirror_mode": {
    "name": "ipython",
    "version": 3
   },
   "file_extension": ".py",
   "mimetype": "text/x-python",
   "name": "python",
   "nbconvert_exporter": "python",
   "pygments_lexer": "ipython3",
   "version": "3.10.0"
  },
  "orig_nbformat": 4
 },
 "nbformat": 4,
 "nbformat_minor": 2
}
